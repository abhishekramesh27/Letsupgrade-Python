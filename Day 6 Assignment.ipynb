{
 "cells": [
  {
   "cell_type": "markdown",
   "metadata": {},
   "source": [
    "# Day 6\n"
   ]
  },
  {
   "cell_type": "markdown",
   "metadata": {},
   "source": [
    "Question 1"
   ]
  },
  {
   "cell_type": "code",
   "execution_count": 3,
   "metadata": {},
   "outputs": [
    {
     "name": "stdout",
     "output_type": "stream",
     "text": [
      "Collecting secure-smtplibNote: you may need to restart the kernel to use updated packages.\n",
      "  Downloading secure_smtplib-0.1.1-py2.py3-none-any.whl (3.4 kB)\n",
      "Installing collected packages: secure-smtplib\n",
      "Successfully installed secure-smtplib-0.1.1\n",
      "\n"
     ]
    }
   ],
   "source": [
    "pip install secure-smtplib"
   ]
  },
  {
   "cell_type": "code",
   "execution_count": null,
   "metadata": {},
   "outputs": [],
   "source": [
    "import smtplib, ssl\n",
    "port = 465 \n",
    "smtp_server = \"smtp.gmail.com\"\n",
    "sender_email = \"abhishekpr27@gmail.com\"  \n",
    "receiver_email = \"prabhishek27@gmail.com\"  \n",
    "password = input(\"Type your password and press enter: \")\n",
    "message = \"\"\"\\\n",
    "Subject: Hi\n",
    "\n",
    "Lets Upgrade.\"\"\"\n",
    "\n",
    "context = ssl.create_default_context()\n",
    "with smtplib.SMTP_SSL(smtp_server, port, context=context) as server:\n",
    "    server.login(sender_email, password)\n",
    "    server.sendmail(sender_email, receiver_email, message)"
   ]
  },
  {
   "cell_type": "code",
   "execution_count": null,
   "metadata": {},
   "outputs": [],
   "source": []
  }
 ],
 "metadata": {
  "kernelspec": {
   "display_name": "Python 3",
   "language": "python",
   "name": "python3"
  },
  "language_info": {
   "codemirror_mode": {
    "name": "ipython",
    "version": 3
   },
   "file_extension": ".py",
   "mimetype": "text/x-python",
   "name": "python",
   "nbconvert_exporter": "python",
   "pygments_lexer": "ipython3",
   "version": "3.8.3"
  }
 },
 "nbformat": 4,
 "nbformat_minor": 4
}
