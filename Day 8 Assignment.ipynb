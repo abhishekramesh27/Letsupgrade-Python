{
 "cells": [
  {
   "cell_type": "markdown",
   "metadata": {},
   "source": [
    "# Day 8 "
   ]
  },
  {
   "cell_type": "code",
   "execution_count": 1,
   "metadata": {},
   "outputs": [
    {
     "name": "stdout",
     "output_type": "stream",
     "text": [
      "Requirement already satisfied: pytube in d:\\softwares\\python\\lib\\site-packages (10.0.0)Note: you may need to restart the kernel to use updated packages.\n",
      "Requirement already satisfied: typing-extensions in d:\\softwares\\python\\lib\\site-packages (from pytube) (3.7.4.2)\n",
      "\n"
     ]
    }
   ],
   "source": [
    "pip install pytube"
   ]
  },
  {
   "cell_type": "code",
   "execution_count": 2,
   "metadata": {},
   "outputs": [
    {
     "name": "stdout",
     "output_type": "stream",
     "text": [
      "Collecting youtube-python\n",
      "  Downloading youtube-python-1.0.13.tar.gz (2.8 kB)\n",
      "Requirement already satisfied: requests in d:\\softwares\\python\\lib\\site-packages (from youtube-python) (2.24.0)\n",
      "Requirement already satisfied: certifi>=2017.4.17 in d:\\softwares\\python\\lib\\site-packages (from requests->youtube-python) (2020.6.20)\n",
      "Requirement already satisfied: urllib3!=1.25.0,!=1.25.1,<1.26,>=1.21.1 in d:\\softwares\\python\\lib\\site-packages (from requests->youtube-python) (1.25.9)\n",
      "Requirement already satisfied: chardet<4,>=3.0.2 in d:\\softwares\\python\\lib\\site-packages (from requests->youtube-python) (3.0.4)\n",
      "Requirement already satisfied: idna<3,>=2.5 in d:\\softwares\\python\\lib\\site-packages (from requests->youtube-python) (2.10)\n",
      "Building wheels for collected packages: youtube-python\n",
      "  Building wheel for youtube-python (setup.py): started\n",
      "  Building wheel for youtube-python (setup.py): finished with status 'done'\n",
      "  Created wheel for youtube-python: filename=youtube_python-1.0.13-py2.py3-none-any.whl size=3381 sha256=68faaf0eefccdae55f7be09e46aaf36192fa62dd5767ab40638a92ab331fc948\n",
      "  Stored in directory: c:\\users\\abhis\\appdata\\local\\pip\\cache\\wheels\\51\\d9\\89\\7e91a1b20aecd44a2b942e153be77deb9411d0d79f4fd20800\n",
      "Successfully built youtube-python\n",
      "Installing collected packages: youtube-python\n",
      "Successfully installed youtube-python-1.0.13\n",
      "Note: you may need to restart the kernel to use updated packages.\n"
     ]
    }
   ],
   "source": [
    "pip install youtube-python"
   ]
  },
  {
   "cell_type": "code",
   "execution_count": null,
   "metadata": {},
   "outputs": [],
   "source": [
    "from pytube import YouTube\n",
    "import os\n",
    "from tkinter import *\n",
    "\n",
    "root=Tk()\n",
    "root.geometry('600x200')\n",
    "root.title('Youtube Video Downloader')\n",
    "\n",
    "\n",
    "Label_1=Label(root,text=\"https://www.youtube.com/watch?v=UM6YDJ2aalU\", font=(\"bold\",20))\n",
    "Label_1.place(x=120,y=20)\n",
    "\n",
    "\n",
    "mylink=StringVar()\n",
    "\n",
    "pastelink=Entry(root, width=60, textvariable=mylink)\n",
    "pastelink.place(x=140, y=80)\n",
    "\n",
    "#link=\"https://www.youtube.com/watch?v=0NV1KdWRHck\"\n",
    "\n",
    "def downloadVideo():\n",
    "    x=str(mylink.get())\n",
    "    ytvideo=YouTube(x).streams.filter(progressive=True, file_extension='mp4').order_by('resolution').desc().first()\n",
    "    if not os.path.exists('E:/video'):\n",
    "        os.makedirs('E:/video')\n",
    "    ytvideo.download('E:/video') \n",
    "\n",
    "Button(root,text=\"Download Video\", width=20, bg='green',fg=\"white\", command=downloadVideo).place(x=220, y=110)\n",
    "\n",
    "root.mainloop()"
   ]
  },
  {
   "cell_type": "code",
   "execution_count": null,
   "metadata": {},
   "outputs": [],
   "source": []
  }
 ],
 "metadata": {
  "kernelspec": {
   "display_name": "Python 3",
   "language": "python",
   "name": "python3"
  },
  "language_info": {
   "codemirror_mode": {
    "name": "ipython",
    "version": 3
   },
   "file_extension": ".py",
   "mimetype": "text/x-python",
   "name": "python",
   "nbconvert_exporter": "python",
   "pygments_lexer": "ipython3",
   "version": "3.8.3"
  }
 },
 "nbformat": 4,
 "nbformat_minor": 4
}
